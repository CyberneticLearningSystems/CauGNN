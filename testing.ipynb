{
 "cells": [
  {
   "cell_type": "code",
   "execution_count": 6,
   "metadata": {},
   "outputs": [],
   "source": [
    "import numpy as np\n",
    "import pandas as pd\n",
    "import matplotlib.pyplot as plt\n",
    "import os"
   ]
  },
  {
   "cell_type": "code",
   "execution_count": 13,
   "metadata": {},
   "outputs": [],
   "source": [
    "path = 'models/'\n",
    "t = str(pd.to_datetime('today').date())\n",
    "models = os.listdir(path)\n",
    "models = [model for model in models if model.startswith(t)]\n",
    "i = max([int(model[-1]) for model in models]) + 1\n",
    "modelID = f'{t}_{i}'\n",
    "os.mkdir(path + modelID)"
   ]
  },
  {
   "cell_type": "code",
   "execution_count": 9,
   "metadata": {},
   "outputs": [
    {
     "data": {
      "text/plain": [
       "(52, 52)"
      ]
     },
     "execution_count": 9,
     "metadata": {},
     "output_type": "execute_result"
    }
   ],
   "source": [
    "matrix = np.loadtxt('Data/causality_matrix/form41_aggregated_monthly_short_TE.txt')\n",
    "matrix = matrix[0:matrix.shape[1], :]\n",
    "matrix.shape"
   ]
  },
  {
   "cell_type": "code",
   "execution_count": 14,
   "metadata": {},
   "outputs": [
    {
     "data": {
      "image/png": "[encoded data removed]",
      "text/plain": [
       "<Figure size 480x480 with 2 Axes>"
      ]
     },
     "metadata": {},
     "output_type": "display_data"
    }
   ],
   "source": [
    "plt.matshow(matrix,)\n",
    "cb = plt.colorbar()\n",
    "plt.show()"
   ]
  },
  {
   "cell_type": "code",
   "execution_count": 7,
   "metadata": {},
   "outputs": [],
   "source": [
    "datapath = 'Data/form41_subset_quarterly.csv'\n",
    "data = pd.read_csv(datapath, delimiter=',')\n",
    "\n",
    "# remove rows with NaN values\n",
    "data = data.dropna(axis=0)\n",
    "# extract one carrier with the most rows\n",
    "carrier = data['AIRLINE_ID'].value_counts().idxmax()\n",
    "data = data[data['AIRLINE_ID'] == carrier]"
   ]
  },
  {
   "cell_type": "code",
   "execution_count": 8,
   "metadata": {},
   "outputs": [
    {
     "data": {
      "text/plain": [
       "(16, 273)"
      ]
     },
     "execution_count": 8,
     "metadata": {},
     "output_type": "execute_result"
    }
   ],
   "source": [
    "data.shape"
   ]
  },
  {
   "cell_type": "code",
   "execution_count": 9,
   "metadata": {},
   "outputs": [],
   "source": [
    "data.to_csv('Data/form41_subset_quarterly_Southwest.csv', index=False)"
   ]
  },
  {
   "cell_type": "code",
   "execution_count": 12,
   "metadata": {},
   "outputs": [],
   "source": [
    "data = pd.read_csv('Data/form41_aggregated_quarterly_southwest.csv', delimiter=',')"
   ]
  },
  {
   "cell_type": "code",
   "execution_count": 13,
   "metadata": {},
   "outputs": [
    {
     "data": {
      "text/html": [
       "<div>\n",
       "<style scoped>\n",
       "    .dataframe tbody tr th:only-of-type {\n",
       "        vertical-align: middle;\n",
       "    }\n",
       "\n",
       "    .dataframe tbody tr th {\n",
       "        vertical-align: top;\n",
       "    }\n",
       "\n",
       "    .dataframe thead th {\n",
       "        text-align: right;\n",
       "    }\n",
       "</style>\n",
       "<table border=\"1\" class=\"dataframe\">\n",
       "  <thead>\n",
       "    <tr style=\"text-align: right;\">\n",
       "      <th></th>\n",
       "      <th>AIRLINE_ID</th>\n",
       "      <th>YEAR</th>\n",
       "      <th>QUARTER</th>\n",
       "      <th>PASSENGERS</th>\n",
       "      <th>FREIGHT</th>\n",
       "      <th>MAIL_x</th>\n",
       "      <th>DISTANCE</th>\n",
       "      <th>UNIQUE_CARRIER_NAME</th>\n",
       "      <th>US_CARRIER</th>\n",
       "      <th>LARGE_USCARRIER</th>\n",
       "      <th>...</th>\n",
       "      <th>AD_EXPENSE</th>\n",
       "      <th>ADMIN_EXPENSE</th>\n",
       "      <th>DEPR_EXP_MAINT</th>\n",
       "      <th>AMORTIZATION_y</th>\n",
       "      <th>TRANSPORT_EXP</th>\n",
       "      <th>TOTAL_OP_EXPENSE</th>\n",
       "      <th>MAINT_PROP_EQUIP</th>\n",
       "      <th>DEPR_PROP_EQUIP</th>\n",
       "      <th>MAINT_DEPR</th>\n",
       "      <th>SVC_SALES_OP_EXP</th>\n",
       "    </tr>\n",
       "  </thead>\n",
       "  <tbody>\n",
       "    <tr>\n",
       "      <th>0</th>\n",
       "      <td>19393</td>\n",
       "      <td>1990</td>\n",
       "      <td>1</td>\n",
       "      <td>4999900</td>\n",
       "      <td>6313881</td>\n",
       "      <td>6139053</td>\n",
       "      <td>2299766</td>\n",
       "      <td>Southwest Airlines Co.</td>\n",
       "      <td>1</td>\n",
       "      <td>1</td>\n",
       "      <td>...</td>\n",
       "      <td>4726.81</td>\n",
       "      <td>23403.22</td>\n",
       "      <td>51.26</td>\n",
       "      <td>0.0</td>\n",
       "      <td>1290.49</td>\n",
       "      <td>252515.38</td>\n",
       "      <td>1103.95</td>\n",
       "      <td>3334.63</td>\n",
       "      <td>4438.58</td>\n",
       "      <td>120739.52</td>\n",
       "    </tr>\n",
       "    <tr>\n",
       "      <th>1</th>\n",
       "      <td>19393</td>\n",
       "      <td>1990</td>\n",
       "      <td>2</td>\n",
       "      <td>5750946</td>\n",
       "      <td>7100492</td>\n",
       "      <td>6095243</td>\n",
       "      <td>2303918</td>\n",
       "      <td>Southwest Airlines Co.</td>\n",
       "      <td>1</td>\n",
       "      <td>1</td>\n",
       "      <td>...</td>\n",
       "      <td>9122.80</td>\n",
       "      <td>30913.01</td>\n",
       "      <td>51.70</td>\n",
       "      <td>0.0</td>\n",
       "      <td>1458.08</td>\n",
       "      <td>266972.66</td>\n",
       "      <td>1050.88</td>\n",
       "      <td>3175.03</td>\n",
       "      <td>4225.91</td>\n",
       "      <td>141322.10</td>\n",
       "    </tr>\n",
       "    <tr>\n",
       "      <th>2</th>\n",
       "      <td>19393</td>\n",
       "      <td>1990</td>\n",
       "      <td>3</td>\n",
       "      <td>5955645</td>\n",
       "      <td>7200096</td>\n",
       "      <td>5702706</td>\n",
       "      <td>2338327</td>\n",
       "      <td>Southwest Airlines Co.</td>\n",
       "      <td>1</td>\n",
       "      <td>1</td>\n",
       "      <td>...</td>\n",
       "      <td>7577.86</td>\n",
       "      <td>27762.60</td>\n",
       "      <td>54.17</td>\n",
       "      <td>0.0</td>\n",
       "      <td>1362.82</td>\n",
       "      <td>279911.10</td>\n",
       "      <td>1132.80</td>\n",
       "      <td>3363.46</td>\n",
       "      <td>4496.26</td>\n",
       "      <td>137232.29</td>\n",
       "    </tr>\n",
       "    <tr>\n",
       "      <th>3</th>\n",
       "      <td>19393</td>\n",
       "      <td>1990</td>\n",
       "      <td>4</td>\n",
       "      <td>5357638</td>\n",
       "      <td>7908446</td>\n",
       "      <td>8584344</td>\n",
       "      <td>2488265</td>\n",
       "      <td>Southwest Airlines Co.</td>\n",
       "      <td>1</td>\n",
       "      <td>1</td>\n",
       "      <td>...</td>\n",
       "      <td>9610.62</td>\n",
       "      <td>20625.67</td>\n",
       "      <td>54.01</td>\n",
       "      <td>0.0</td>\n",
       "      <td>1450.37</td>\n",
       "      <td>305815.90</td>\n",
       "      <td>942.07</td>\n",
       "      <td>3496.28</td>\n",
       "      <td>4438.35</td>\n",
       "      <td>136165.18</td>\n",
       "    </tr>\n",
       "    <tr>\n",
       "      <th>4</th>\n",
       "      <td>19393</td>\n",
       "      <td>1991</td>\n",
       "      <td>1</td>\n",
       "      <td>5817348</td>\n",
       "      <td>8111289</td>\n",
       "      <td>6901716</td>\n",
       "      <td>2569307</td>\n",
       "      <td>Southwest Airlines Co.</td>\n",
       "      <td>1</td>\n",
       "      <td>1</td>\n",
       "      <td>...</td>\n",
       "      <td>8246.78</td>\n",
       "      <td>22943.00</td>\n",
       "      <td>53.95</td>\n",
       "      <td>0.0</td>\n",
       "      <td>1427.65</td>\n",
       "      <td>293564.97</td>\n",
       "      <td>1084.54</td>\n",
       "      <td>3532.65</td>\n",
       "      <td>4617.18</td>\n",
       "      <td>141389.79</td>\n",
       "    </tr>\n",
       "  </tbody>\n",
       "</table>\n",
       "<p>5 rows × 273 columns</p>\n",
       "</div>"
      ],
      "text/plain": [
       "   AIRLINE_ID  YEAR  QUARTER  PASSENGERS  FREIGHT   MAIL_x  DISTANCE  \\\n",
       "0       19393  1990        1     4999900  6313881  6139053   2299766   \n",
       "1       19393  1990        2     5750946  7100492  6095243   2303918   \n",
       "2       19393  1990        3     5955645  7200096  5702706   2338327   \n",
       "3       19393  1990        4     5357638  7908446  8584344   2488265   \n",
       "4       19393  1991        1     5817348  8111289  6901716   2569307   \n",
       "\n",
       "      UNIQUE_CARRIER_NAME  US_CARRIER  LARGE_USCARRIER  ...  AD_EXPENSE  \\\n",
       "0  Southwest Airlines Co.           1                1  ...     4726.81   \n",
       "1  Southwest Airlines Co.           1                1  ...     9122.80   \n",
       "2  Southwest Airlines Co.           1                1  ...     7577.86   \n",
       "3  Southwest Airlines Co.           1                1  ...     9610.62   \n",
       "4  Southwest Airlines Co.           1                1  ...     8246.78   \n",
       "\n",
       "   ADMIN_EXPENSE  DEPR_EXP_MAINT  AMORTIZATION_y  TRANSPORT_EXP  \\\n",
       "0       23403.22           51.26             0.0        1290.49   \n",
       "1       30913.01           51.70             0.0        1458.08   \n",
       "2       27762.60           54.17             0.0        1362.82   \n",
       "3       20625.67           54.01             0.0        1450.37   \n",
       "4       22943.00           53.95             0.0        1427.65   \n",
       "\n",
       "   TOTAL_OP_EXPENSE  MAINT_PROP_EQUIP  DEPR_PROP_EQUIP  MAINT_DEPR  \\\n",
       "0         252515.38           1103.95          3334.63     4438.58   \n",
       "1         266972.66           1050.88          3175.03     4225.91   \n",
       "2         279911.10           1132.80          3363.46     4496.26   \n",
       "3         305815.90            942.07          3496.28     4438.35   \n",
       "4         293564.97           1084.54          3532.65     4617.18   \n",
       "\n",
       "   SVC_SALES_OP_EXP  \n",
       "0         120739.52  \n",
       "1         141322.10  \n",
       "2         137232.29  \n",
       "3         136165.18  \n",
       "4         141389.79  \n",
       "\n",
       "[5 rows x 273 columns]"
      ]
     },
     "execution_count": 13,
     "metadata": {},
     "output_type": "execute_result"
    }
   ],
   "source": [
    "data.head()"
   ]
  },
  {
   "cell_type": "code",
   "execution_count": 17,
   "metadata": {},
   "outputs": [
    {
     "name": "stdout",
     "output_type": "stream",
     "text": [
      "0\n",
      "135\n"
     ]
    },
    {
     "data": {
      "text/plain": [
       "136"
      ]
     },
     "execution_count": 17,
     "metadata": {},
     "output_type": "execute_result"
    }
   ],
   "source": [
    "num_columns_with_nans = data.isna().all().sum()\n",
    "print(num_columns_with_nans)\n",
    "\n",
    "\n"
   ]
  }
 ],
 "metadata": {
  "kernelspec": {
   "display_name": ".venv",
   "language": "python",
   "name": "python3"
  },
  "language_info": {
   "codemirror_mode": {
    "name": "ipython",
    "version": 3
   },
   "file_extension": ".py",
   "mimetype": "text/x-python",
   "name": "python",
   "nbconvert_exporter": "python",
   "pygments_lexer": "ipython3",
   "version": "3.12.0"
  }
 },
 "nbformat": 4,
 "nbformat_minor": 2
}
